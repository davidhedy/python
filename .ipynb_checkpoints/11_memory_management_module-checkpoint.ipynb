{
 "cells": [
  {
   "cell_type": "markdown",
   "metadata": {
    "slideshow": {
     "slide_type": "slide"
    }
   },
   "source": [
    "# Python的内存管理及模块包\n",
    "## 1. <font color=\"orange\">变量与对象(Review)</font>\n",
    "## 2. <font color=\"orange\">函数的参数传递(Review)</font>\n",
    "## 3. <font color=\"blue\">Python内存管理-<font color=\"red\">变量与对象的生与死</font></font>\n",
    "## 4. <font color=\"blue\">Python作用域与嵌套函数</font>\n",
    "## 5. <font color=\"blue\">模块和包</font>"
   ]
  },
  {
   "cell_type": "markdown",
   "metadata": {
    "slideshow": {
     "slide_type": "-"
    }
   },
   "source": [
    "##  <font color=\"blue\">1. 变量与对象(Review)</font>\n",
    "### 1.1 一般生成过程：创建对象, 并使之与某个变量关联.  <font color=\"red\">所有的变量都是引用.</font> <font color=\"purple\">类型属于对象</font>. \n",
    "### 1.2  <font color=\"blue\">Review of</font>  <font color=\"red\" size = 5>=</font>"
   ]
  },
  {
   "cell_type": "markdown",
   "metadata": {},
   "source": [
    "####       <font color=\"blue\"> T = Expression </font>\n",
    "        T: 变量的名称\n",
    "        Expression: 由n个变量和m个对象作用(包括函数调用)构成\n",
    "        1. n = 1, m = 0(并且没有函数调用): T引用对应变量引用的对象\n",
    "        2. 其余情况： T引用由表达式创建的对象\n",
    "        \n",
    "   \n",
    "####        <font color=\"blue\">关于表达式</font>：表达式中的变量由其引用的对象代替"
   ]
  },
  {
   "cell_type": "markdown",
   "metadata": {},
   "source": [
    "## <font color=\"blue\">2.函数的参数传递(Review)</font>\n",
    "#### <font color=\"blue\">上述的情况对于<font color=\"red\">函数的参数传递</font>同样适用</font>\n",
    "      将a_, b_传入f(a, b)的表达式f(a_, b_)等价于f(a = a_, b = b_) \n",
    "      1. 函数参数列表里面的变量是函数的局部变量，在函数调用后，它引用a_(b_)之前引用的对象\n",
    "      2. 当变量a(b)引用别的对象时,a_(b_)并不发生改变\n",
    "      3. 对于可变对象, a(b)在原处的修改将引起a_(b_)发生相应的变化\n",
    "      \n",
    "#### 问题：<font color=\"red\">函数return的时候发生了什么?</font>\n",
    "#####         1. 复制需要返回的对象, 函数内部的对象消失?\n",
    "#####         2. 返回对象的引用，对应的对象没有发生变化?\n",
    "#####         3. 其他?"
   ]
  },
  {
   "cell_type": "code",
   "execution_count": null,
   "metadata": {},
   "outputs": [],
   "source": [
    "def f(a,b):\n",
    "    c = a + b\n",
    "    print(\"id:\", id(c))\n",
    "    return c\n",
    "\n",
    "a_ = [1,2,3]\n",
    "b_ = [4,5,5]\n",
    "result = f(a = a_, b = b_)\n",
    "print(\"id : \", id(result))"
   ]
  },
  {
   "cell_type": "code",
   "execution_count": null,
   "metadata": {},
   "outputs": [],
   "source": []
  },
  {
   "cell_type": "markdown",
   "metadata": {},
   "source": [
    "<img src=\"qrcode-3.jpg\" width=\"20%\" height=\"20%\">[查看结果](https://www.wjx.cn/report/50161631.aspx)."
   ]
  },
  {
   "cell_type": "markdown",
   "metadata": {},
   "source": [
    "## <font color=\"red\">怎么证明你是对的？？？</font>"
   ]
  },
  {
   "cell_type": "markdown",
   "metadata": {},
   "source": [
    "### 函数内部将要返回的对象ID与返回之后的对象的ID一致"
   ]
  },
  {
   "cell_type": "markdown",
   "metadata": {},
   "source": [
    "## 3. 对象与变量的生与死\n",
    "### <font color=\"blue\">问题 先有变量还是先有对象？</font>"
   ]
  },
  {
   "cell_type": "markdown",
   "metadata": {},
   "source": [
    "### <font color=\"red\">答：首先创建一个对象，再然后指定一个变量引用它，变量也称为对象的引用</font>"
   ]
  },
  {
   "cell_type": "code",
   "execution_count": null,
   "metadata": {},
   "outputs": [],
   "source": [
    "L = [1,2,3] #construct a list [1,2,3] and make a variable named L referring to it\n",
    "T = (1, 2, 3)  #construct a tuple (1,2,3) and make a variable named T referring to it"
   ]
  },
  {
   "cell_type": "markdown",
   "metadata": {},
   "source": [
    "### 对象的生： 从构造开始\n",
    "### 变量的生： 从关联(引用)一个对象开始"
   ]
  },
  {
   "cell_type": "markdown",
   "metadata": {},
   "source": [
    "### 1. <font color=\"blue\">变量因<font color=\"red\">关联对象</font>而生，因何而“逝”？</font>"
   ]
  },
  {
   "cell_type": "markdown",
   "metadata": {},
   "source": [
    "### 2. <font color=\"orange\">一般操作对象都通过变量(引用)进行</font>"
   ]
  },
  {
   "cell_type": "markdown",
   "metadata": {},
   "source": [
    "### 对象与变量难以割裂的依存关系： \n",
    "### <font color=\"red\">你<font color=\"black\">(变量)</font>若不离不弃，我<font color=\"black\">(对象)</font>便生死相依</font>"
   ]
  },
  {
   "cell_type": "markdown",
   "metadata": {},
   "source": [
    "### <font color=\"blue\">如果对象与变量失联，相应的对象会怎么样？</font>"
   ]
  },
  {
   "cell_type": "markdown",
   "metadata": {},
   "source": [
    "### <font color=\"red\">没有引用的对象去哪儿了?</font>"
   ]
  },
  {
   "cell_type": "code",
   "execution_count": 2,
   "metadata": {},
   "outputs": [
    {
     "name": "stdout",
     "output_type": "stream",
     "text": [
      "[1, 2, 3, 4]\n",
      "id of initial L is  2223869921800\n",
      "id of final L is  2223869921800\n",
      "L= [1, 2, 3, 4]\n",
      "id of new L is  2223869765576\n",
      "sum of L is  12\n",
      "old object: [<_ast.Expr object at 0x00000205C8FAA4A8>]\n"
     ]
    }
   ],
   "source": [
    "import ctypes\n",
    "\n",
    "print([1,2,3,4])\n",
    "\n",
    "L = [1,2,3]\n",
    "print(\"id of initial L is \",id(L))\n",
    "L += [4]\n",
    "print(\"id of final L is \",id(L))\n",
    "print(\"L=\",L)\n",
    "idx_old = id(L)\n",
    "#above: list [1,2,3] is referred by L and extended\n",
    "\n",
    "\n",
    "L = [3, 4, 5]\n",
    "#where is [1,2,3,4], when L refers to [3,4,5]\n",
    "print(\"id of new L is \",id(L))\n",
    "print(\"sum of L is \", sum(L))\n",
    "\n",
    "#we could not access the object by its id when the object's reference is gone\n",
    "#the memory of the object has been released\n",
    "print(\"old object:\",ctypes.cast(idx_old, ctypes.py_object).value)"
   ]
  },
  {
   "cell_type": "code",
   "execution_count": null,
   "metadata": {},
   "outputs": [],
   "source": [
    "import ctypes\n",
    "l = [1,2,3]\n",
    "idx = id(l)\n",
    "print(\"old id = \", idx)\n",
    "print(\"object by id = \",ctypes.cast(idx, ctypes.py_object).value)\n",
    "\n",
    "#we can accees the object by its id\n",
    "newl = ctypes.cast(idx, ctypes.py_object).value\n",
    "print(\"id of new l is \", id(newl))\n",
    "\n"
   ]
  },
  {
   "cell_type": "code",
   "execution_count": 4,
   "metadata": {},
   "outputs": [
    {
     "name": "stdout",
     "output_type": "stream",
     "text": [
      "the constructor function  Python  called\n",
      "a's name is  Python\n",
      "the constructor function  C++  called\n"
     ]
    }
   ],
   "source": [
    "#类定义示例\n",
    "class A:\n",
    "    def __init__(self,data): #类的构造函数，使用数据初始化类的数据成员\n",
    "        self.name = data\n",
    "        print(\"the constructor function \", self.name,\" called\")\n",
    "        \n",
    "    def __del__(self): #类的析构函数，在一些必要的情况做一定的清理工作\n",
    "        print(self.name,\" destructor function called\")\n",
    "        \n",
    "    def say_helo(self): #类的成员函数\n",
    "        print(\"hello world\")\n",
    "        \n",
    "    def __str__(self): #定义类的print行为\n",
    "        return self.name;\n",
    "        \n",
    "a = A(\"Python\")\n",
    "print(\"a's name is \",a.name)\n",
    "b = a\n",
    "a = A(\"C++\")"
   ]
  },
  {
   "cell_type": "code",
   "execution_count": null,
   "metadata": {},
   "outputs": [],
   "source": []
  },
  {
   "cell_type": "markdown",
   "metadata": {},
   "source": [
    "扫码回答<img src=\"qrcode-memory.jpg\" width=\"20%\" height=\"20%\">[查看结果](https://www.wjx.cn/report/50397446.aspx)."
   ]
  },
  {
   "cell_type": "code",
   "execution_count": null,
   "metadata": {},
   "outputs": [],
   "source": [
    "L1 = [1,2,3]\n",
    "L2 = L1\n",
    "L1 = [3,4,5]\n",
    "#[1,2,3]是否会因为L1引用别的对象而被删除呢？"
   ]
  },
  {
   "cell_type": "code",
   "execution_count": 6,
   "metadata": {},
   "outputs": [
    {
     "name": "stdout",
     "output_type": "stream",
     "text": [
      "the constructor function  Python  called\n",
      "outer A: Python\n",
      "the constructor function  Python New  called\n",
      "Python New\n",
      "Python New  destructor function called\n",
      "Python  destructor function called\n"
     ]
    }
   ],
   "source": [
    "#what will happen to the object inside the function when return is completed\n",
    "def fun():\n",
    "#     L = [1,2,3]\n",
    "#     L += [4,5,6]\n",
    "#     print(\"inner L:\",L)\n",
    "    L = A(\"Python\")\n",
    "    #对象A的引用被返回，在函数内部创建的对象仍然保留在内存中\n",
    "    return L\n",
    "\n",
    "M = fun()\n",
    "print(\"outer A:\",M)\n",
    "\n",
    "#主动删除引用，则调用A的析构函数清理空间\n",
    "del M"
   ]
  },
  {
   "cell_type": "markdown",
   "metadata": {},
   "source": [
    "#### <font color=\"red\">只要与对象关联的变量不消失(失去作用)， 对象便不会被删除!</font>"
   ]
  },
  {
   "cell_type": "code",
   "execution_count": 7,
   "metadata": {},
   "outputs": [],
   "source": [
    "#思考题: del M 删除的是引用吗，是否也删除相应的对象了？ \n",
    "#会存在del M后并不删除相应的对象的情况吗？\n",
    "#举个例子证明你的想法\n"
   ]
  },
  {
   "cell_type": "markdown",
   "metadata": {},
   "source": [
    "### <font color=\"blue\">哪些情况会导致关联的变量消失？</font>"
   ]
  },
  {
   "cell_type": "markdown",
   "metadata": {},
   "source": [
    "#### <font color=\"brown\">1. 主动删除变量</font>\n",
    "```` python\n",
    "           t = [1,2,3]\n",
    "           del t\n",
    "````\n",
    "#### <font color=\"brown\">2. 关联其他对象</font>\n",
    "```` python\n",
    "           t = [1,2,3]\n",
    "           print(t)\n",
    "           t = 10\n",
    "````\n",
    "#### <font color=\"brown\">3. 超出了变量的作用范围</font>\n"
   ]
  },
  {
   "cell_type": "markdown",
   "metadata": {},
   "source": [
    "## 4. Python作用域与嵌套函数"
   ]
  },
  {
   "cell_type": "code",
   "execution_count": 35,
   "metadata": {},
   "outputs": [
    {
     "name": "stdout",
     "output_type": "stream",
     "text": [
      "innner X: [99]\n",
      "out X: [88]\n"
     ]
    }
   ],
   "source": [
    "#示例一\n",
    "#global scope\n",
    "X = 99 #X and fun assigned in module: global\n",
    "\n",
    "def func(Y): #Y and Z assigned in function: locals\n",
    "    #全局变量X对函数可见\n",
    "    Z = X + Y\n",
    "    return Z\n",
    "\n",
    "def setX(newX):\n",
    "    #当没有\"global X\" 注意警告\n",
    "    #local variable 'X' referenced before assignment \n",
    "    #当没有\"global X\"时，错误的原因在于它首先把X当作全局变量读取(referenced)\n",
    "    #接着又将X当中局部变量处理，这或许会让编译器凌乱\n",
    "    global X\n",
    "    print(\"innner X:\", X)\n",
    "    X = newX\n",
    "\n",
    "func(Y = 1)\n",
    "setX(88)\n",
    "print(\"out X:\",X)\n",
    "\n",
    "\n"
   ]
  },
  {
   "cell_type": "code",
   "execution_count": 32,
   "metadata": {},
   "outputs": [
    {
     "name": "stdout",
     "output_type": "stream",
     "text": [
      "X Out of f2: 88\n",
      "f2 print X = 66\n",
      "X out of f1: 99\n",
      "print Y: 11\n"
     ]
    },
    {
     "data": {
      "text/plain": [
       "11"
      ]
     },
     "execution_count": 32,
     "metadata": {},
     "output_type": "execute_result"
    }
   ],
   "source": [
    "#示例二\n",
    "#a.py\n",
    "X = 99 #global scope name\n",
    "def f1():\n",
    "    X = 88  #Enclosing def local\n",
    "    def f2(): \n",
    "        nonlocal X\n",
    "        X = 66\n",
    "        print(\"f2 print X =\",X) #Reference made in nested def of f1\n",
    "    print(\"X Out of f2:\",X)\n",
    "    f2()\n",
    "           \n",
    "f1()  #Prints: enclosing def local\n",
    "print(\"X out of f1:\", X)\n",
    "\n",
    "\n",
    "# def g1(Y):\n",
    "#     def printY():\n",
    "#         print(\"print Y:\",Y)\n",
    "        \n",
    "#     def addone():\n",
    "#         nonlocal Y\n",
    "#         Y = Y + 1\n",
    "        \n",
    "#     addone()\n",
    "#     printY()\n",
    "       \n",
    "#     return Y\n",
    "\n",
    "# g1(10)"
   ]
  },
  {
   "cell_type": "markdown",
   "metadata": {},
   "source": [
    "### 工厂函数"
   ]
  },
  {
   "cell_type": "code",
   "execution_count": null,
   "metadata": {},
   "outputs": [],
   "source": [
    "#define a function of square\n",
    "#define a function of cubic\n",
    "#define a function of quaritc\n",
    "def square(x):\n",
    "    return x ** 2\n",
    "\n",
    "def cubic(x):\n",
    "    return x ** 3\n",
    "\n",
    "def quartic(x)：\n",
    "    return x ** 4"
   ]
  },
  {
   "cell_type": "code",
   "execution_count": 12,
   "metadata": {},
   "outputs": [],
   "source": [
    "def maker(N):\n",
    "    def action(X):\n",
    "        return X ** N\n",
    "    return action"
   ]
  },
  {
   "cell_type": "code",
   "execution_count": 14,
   "metadata": {},
   "outputs": [
    {
     "name": "stdout",
     "output_type": "stream",
     "text": [
      "25\n"
     ]
    }
   ],
   "source": [
    "square = maker(2)\n",
    "print(square(5))\n"
   ]
  },
  {
   "cell_type": "code",
   "execution_count": 18,
   "metadata": {},
   "outputs": [
    {
     "name": "stdout",
     "output_type": "stream",
     "text": [
      "27\n",
      "8\n",
      "81\n"
     ]
    }
   ],
   "source": [
    "cubic = maker(3)\n",
    "print(cubic(3))"
   ]
  },
  {
   "cell_type": "code",
   "execution_count": 19,
   "metadata": {},
   "outputs": [
    {
     "data": {
      "text/plain": [
       "16"
      ]
     },
     "execution_count": 19,
     "metadata": {},
     "output_type": "execute_result"
    }
   ],
   "source": [
    "quartic = maker(4)\n",
    "quartic(2)"
   ]
  },
  {
   "cell_type": "code",
   "execution_count": null,
   "metadata": {},
   "outputs": [],
   "source": [
    "#sum_up different number of numbers, we do not need different functions\n",
    "def sum_two(a, b):\n",
    "    return a + b;\n",
    "\n",
    "def sum_three(a, b, c):\n",
    "    return a + b + c;\n",
    "\n",
    "def sum_four(a,b,c,d):\n",
    "    return a + b + c + d\n",
    "\n",
    "#what if we want to sum up more numbers\n"
   ]
  },
  {
   "cell_type": "markdown",
   "metadata": {},
   "source": [
    "### Python可变参数函数\n",
    "```` python\n",
    "  def sum_up(*args):  #将基于位置的参数搜集到一个元组中\n",
    "        return sum(args)\n",
    "  \n",
    "  def sum_dict(**args): #将基于关键字的参数收集到一个字典中\n",
    "    print(args)\n",
    "````"
   ]
  },
  {
   "cell_type": "code",
   "execution_count": 30,
   "metadata": {},
   "outputs": [
    {
     "name": "stdout",
     "output_type": "stream",
     "text": [
      "sum is 6\n",
      "sum is 21\n",
      "view_all: <class 'tuple'>\n",
      "view_all: (1, [1, 2, 3], (1, 3, 5))\n",
      "<class 'dict'>\n",
      "{'a': 4, 'b': 5, 'c': 6}\n"
     ]
    }
   ],
   "source": [
    "def sum_up(*args):\n",
    "   # print(type(args))\n",
    "   # args is a tuple\n",
    "    return sum(args)\n",
    "\n",
    "def view_all(*args):\n",
    "    print(\"view_all:\",type(args))\n",
    "    print(\"view_all:\",args)\n",
    "   # args is a tuple\n",
    "\n",
    "print(\"sum is\", sum_up(1,2,3))\n",
    "print(\"sum is\", sum_up(1,2,3,4,5,6))\n",
    "#the sum_up function with *args could take different number of parameters\n",
    "\n",
    "view_all(1,[1,2,3],(1,3,5))\n",
    "\n",
    "def get_dict(**args):\n",
    "    print(type(args))\n",
    "    print(args)\n",
    "    \n",
    "get_dict(a = 4,b = 5, c = 6)"
   ]
  },
  {
   "cell_type": "markdown",
   "metadata": {},
   "source": [
    "### keyword-only 参数\n",
    "#### 当前面是可变参数的时候，最后一个参数必须指定为关键字参数"
   ]
  },
  {
   "cell_type": "code",
   "execution_count": 24,
   "metadata": {},
   "outputs": [
    {
     "data": {
      "text/plain": [
       "16"
      ]
     },
     "execution_count": 24,
     "metadata": {},
     "output_type": "execute_result"
    }
   ],
   "source": [
    "def sum_up(*args, max_no):\n",
    "    return sum(args[0:max_no])\n",
    "\n",
    "sum_up(1,2,3,4,6,max_no = 5)"
   ]
  },
  {
   "cell_type": "markdown",
   "metadata": {},
   "source": [
    "## 5. 模块和包"
   ]
  },
  {
   "cell_type": "markdown",
   "metadata": {},
   "source": [
    "### 模块： 提供自包含的变量的包（也就是所谓的命名空间）从而将部件组织为系统的一种可行方式\n",
    "#### 模块的作用:\n",
    "##### 1. 代码重用\n",
    "##### 2. 系统命名空间\n",
    "##### 3. 实现共享的服务和数据"
   ]
  },
  {
   "cell_type": "markdown",
   "metadata": {},
   "source": [
    "### Python程序的组织: 程序拥有一个主体的顶层文件，辅以0个活多个被称为模块的支持文件.\n"
   ]
  },
  {
   "cell_type": "markdown",
   "metadata": {},
   "source": [
    "### 模块的搜索路径\n",
    "#### 1.程序的主目录 (自动的)\n",
    "#### 2. PYTHONPATH目录 (可配置)\n",
    "#### 3. 标准库目录 (自动的, 安装目录)\n",
    "#### 4. 任何.pth文件中的内容(如何存在)\n",
    "#### 5. 第三方扩展引用的site-packages主目录"
   ]
  },
  {
   "cell_type": "markdown",
   "metadata": {},
   "source": [
    "## 什么是包呢？\n",
    "## Python代码的目录被称为包"
   ]
  },
  {
   "cell_type": "code",
   "execution_count": null,
   "metadata": {},
   "outputs": [],
   "source": [
    "# dir0\\dir1\\dir2\\mod.py\n",
    "import dir1.dir2.mod  #导入包内模块的方式"
   ]
  },
  {
   "cell_type": "markdown",
   "metadata": {},
   "source": [
    "## 包导入的约束条件\n",
    "### 如果选择使用包导入，包导入语句的路径中的每个目录都必须有__init__.py文件，否则导入会失败"
   ]
  }
 ],
 "metadata": {
  "celltoolbar": "Slideshow",
  "kernelspec": {
   "display_name": "Python 3",
   "language": "python",
   "name": "python3"
  },
  "language_info": {
   "codemirror_mode": {
    "name": "ipython",
    "version": 3
   },
   "file_extension": ".py",
   "mimetype": "text/x-python",
   "name": "python",
   "nbconvert_exporter": "python",
   "pygments_lexer": "ipython3",
   "version": "3.7.3"
  }
 },
 "nbformat": 4,
 "nbformat_minor": 4
}
