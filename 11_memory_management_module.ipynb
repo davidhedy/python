{
 "cells": [
  {
   "cell_type": "markdown",
   "metadata": {
    "slideshow": {
     "slide_type": "slide"
    }
   },
   "source": [
    "# Python的内存管理及模块包\n",
    "## 1. <font color=\"orange\">变量与对象(Review)</font>\n",
    "## 2. <font color=\"orange\">函数的参数传递(Review)</font>\n",
    "## 3. <font color=\"blue\">Python内存管理-<font color=\"red\">变量与对象的生与死</font></font>\n",
    "## 4. <font color=\"blue\">Python作用域与嵌套函数</font>\n",
    "## 5. <font color=\"blue\">模块和包</font>"
   ]
  },
  {
   "cell_type": "markdown",
   "metadata": {
    "slideshow": {
     "slide_type": "-"
    }
   },
   "source": [
    "##  <font color=\"blue\">1. 变量与对象(Review)</font>\n",
    "### 1.1 一般生成过程：创建对象, 并使之与某个变量关联.  <font color=\"red\">所有的变量都是引用.</font> 类型属于对象. \n",
    "### 1.2  <font color=\"blue\">Review of</font>  <font color=\"red\" size = 5>=</font>"
   ]
  },
  {
   "cell_type": "markdown",
   "metadata": {},
   "source": [
    "####       <font color=\"blue\"> T = Expression </font>\n",
    "        T: 变量的名称\n",
    "        Expression: 由n个变量和m个对象作用(包括函数调用)构成\n",
    "        1. n = 1, m = 0(并且没有函数调用): T引用对应变量引用的对象\n",
    "        2. 其余情况： T引用由表达式创建的对象\n",
    "        \n",
    "   \n",
    "####        <font color=\"blue\">关于表达式</font>：表达式中的变量由其引用的对象代替"
   ]
  },
  {
   "cell_type": "markdown",
   "metadata": {},
   "source": [
    "## <font color=\"blue\">2.函数的参数传递(Review)</font>\n",
    "#### <font color=\"blue\">上述的情况对于<font color=\"red\">函数的参数传递</font>同样适用</font>\n",
    "      将a_, b_传入f(a, b)的表达式f(a_, b_)等价于f(a = a_, b = b_) \n",
    "      1. 函数参数列表里面的变量是函数的局部变量，在函数调用后，它引用a_(b_)之前引用的对象\n",
    "      2. 当变量a(b)引用别的对象时,a_(b_)并不发生改变\n",
    "      3. 对于可变对象, a(b)在原处的修改将引起a_(b_)发生相应的变化\n",
    "      \n",
    "#### 问题：<font color=\"red\">函数return的时候发生了什么?</font>\n",
    "#####         1. 复制需要返回的对象, 函数内部的对象消失\n",
    "#####         2.返回对象的引用，对应的对象没有发生变化\n",
    "#####         3. 其他"
   ]
  },
  {
   "cell_type": "markdown",
   "metadata": {},
   "source": [
    "<img src=\"qrcode-3.jpg\" width=\"20%\" height=\"20%\">[查看结果](https://www.wjx.cn/report/50161631.aspx)."
   ]
  },
  {
   "cell_type": "markdown",
   "metadata": {},
   "source": [
    "## <font color=\"red\">怎么证明你是对的？？？</font>"
   ]
  },
  {
   "cell_type": "code",
   "execution_count": null,
   "metadata": {},
   "outputs": [],
   "source": []
  },
  {
   "cell_type": "markdown",
   "metadata": {},
   "source": [
    "## 3. 对象与变量的生与死\n",
    "### <font color=\"blue\">问题 先有变量还是先有对象？</font>"
   ]
  },
  {
   "cell_type": "markdown",
   "metadata": {},
   "source": [
    "### <font color=\"red\">答：首先创建一个对象，再然后指定一个变量引用它，变量也称为对象的引用</font>"
   ]
  },
  {
   "cell_type": "code",
   "execution_count": null,
   "metadata": {},
   "outputs": [],
   "source": [
    "a = [1,2,3] #first construct a list [1,2,3], then make a variable named a refer to it\n",
    "print(id(a))\n",
    "\n",
    "b = (1, 2, 3)\n",
    "print(id(b))"
   ]
  },
  {
   "cell_type": "markdown",
   "metadata": {},
   "source": [
    "### 对象的生： 从构造开始\n",
    "### 变量的生： 从关联一个对象开始"
   ]
  },
  {
   "cell_type": "code",
   "execution_count": null,
   "metadata": {},
   "outputs": [],
   "source": [
    "c = [1,2,3]\n",
    "c.append(4)\n",
    "print(\"c is \",c)\n",
    "c = {2, 3, 4}\n",
    "c.add(5)\n",
    "d = c\n",
    "print(d)"
   ]
  },
  {
   "cell_type": "markdown",
   "metadata": {},
   "source": [
    "## 4. Python作用域与嵌套函数"
   ]
  }
 ],
 "metadata": {
  "celltoolbar": "Slideshow",
  "kernelspec": {
   "display_name": "Python 3",
   "language": "python",
   "name": "python3"
  },
  "language_info": {
   "codemirror_mode": {
    "name": "ipython",
    "version": 3
   },
   "file_extension": ".py",
   "mimetype": "text/x-python",
   "name": "python",
   "nbconvert_exporter": "python",
   "pygments_lexer": "ipython3",
   "version": "3.7.3"
  }
 },
 "nbformat": 4,
 "nbformat_minor": 4
}
